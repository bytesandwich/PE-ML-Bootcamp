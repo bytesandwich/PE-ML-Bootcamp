{
 "cells": [
  {
   "cell_type": "markdown",
   "metadata": {},
   "source": [
    "# ML Bootcamp for experienced software engineers: Part 1 - basics\n",
    "\n",
    "This notebook is part 1 of a series, and it walks experienced engineers through the key basics of Machine Learning and training models.\n",
    "\n",
    "1. Write `Back Propagation` and `Gradient Descent` algorithm in a `Tensor` library from stratch.\n",
    "2. Write a `Neural Network` using our `Tensor` library.\n",
    "3. This notebook then introduces you to a simple genuine Pytorch ML Model.\n",
    "4. We prove our concepts' utility, by using them as replacements within the genuine Pytorch ML Model.\n",
    "\n",
    "## How to run this code:\n",
    "\n",
    "Please follow [the instructions to install conda](https://docs.conda.io/projects/conda/en/stable/user-guide/install/index.html)\n",
    "```\n",
    "# then create a fresh conda environment\n",
    "conda create --name ml-bootcamp\n",
    "conda activate ml-bootcamp\n",
    "\n",
    "# install the necessary dependencies\n",
    "conda install pytorch torchvision cpuonly -c pytorch\n",
    "conda install notebook matplotlib\n",
    "\n",
    "# open the notebook, within this you can click \"run\"\n",
    "jupyter notebook\n",
    "```\n",
    "\n",
    "In the future we will cover additional topics necessary for you to participate in modern ML development.\n",
    "\n",
    "## Citing Sources\n",
    "Much of this content comes from [Andrej Karpathy's excellent \"building micrograd\" talk](https://youtu.be/VMj-3S1tku0). Most of the `MyTensor` corresponds to `Value` class and `NeuralNetwork` comes almost wholesale.\n",
    "\n",
    "\n",
    "# Introducing the key concepts\n",
    "\n",
    "## Tensor\n",
    "A `Tensor` is just a class that wraps basic python types, like ints, floats, and strings.\n",
    "Adding, multiplying, and other math ops build up graphs of `Tensor` with some parent `Tensor` node representing the function.\n",
    "\n",
    "We call `Gradient Descent` on the parent `Tensor` node of the graph to compute a gradient. In doing so, we determine how to optimize the function for one small nudge.\n",
    "\n",
    "See below how we compute a basic function with a parent node, and then compute the gradient and apply it to the leaf nodes. This optimizes the whole function."
   ]
  },
  {
   "cell_type": "code",
   "execution_count": 1,
   "metadata": {},
   "outputs": [
    {
     "name": "stdout",
     "output_type": "stream",
     "text": [
      "1.0499999523162842 1.0300999879837036\n"
     ]
    }
   ],
   "source": [
    "\"\"\"\n",
    "# Tensor in action\n",
    "\n",
    "Here we build up a small equation of pytorch Tensors.\n",
    "\n",
    "We call pytorch \"backward\" to compute the gradient of the simple function. \n",
    "Then we can see the gradient attribute set on the leaves of the function graph.\n",
    "This gradient attribute allows us to change those leaves and optimize the whole function.\n",
    "\"\"\"\n",
    "import torch\n",
    "\n",
    "# Building up the function from leaves\n",
    "x = torch.tensor(-0.5, requires_grad=True)\n",
    "y = torch.tensor(0.8, requires_grad=True)\n",
    "\n",
    "# What pytorch tracks:\n",
    "#    z \n",
    "#  /   \\\n",
    "# x*x  y\n",
    "\n",
    "z = x*x + y\n",
    "\n",
    "# We call `backward` to do back propagation once, which computes gradients.\n",
    "z.backward()\n",
    "\n",
    "# now x and y have their gradients set in `x.grad` and `y.grad`.\n",
    "\n",
    "# we can use those gradients to \"improve\" x and y, in order to lower Z\n",
    "\n",
    "# Subtract a little bit of the gradient from each leaf.\n",
    "x2 = x.clone() - 0.01 * x.grad\n",
    "y2 = y.clone() - 0.01 * y.grad\n",
    "z2 = x2*x2 + y2\n",
    "\n",
    "# z2 will be less than z1 now!\n",
    "print(z.item(), z2.item())"
   ]
  },
  {
   "cell_type": "markdown",
   "metadata": {},
   "source": [
    "## Back Propagation\n",
    "\n",
    "Back Propagation is a graph algorithm that applies the chain rule to build up derivative relationships from parent to child. It propogates appropriately through each math operator node (which someone wrote). Then each leaf has a `grad` value set which is the derivative of the whole function with respect to that leaf node.\n",
    "\n",
    "Remember, Tensors are a wrapper class holding values (typically floats). Modelers combine these tensors together to create mathematical expression trees which ultimately produce some desired value.  \n",
    "\n",
    "In our case above the expression was:\n",
    "$ z = x^2 + y $\n",
    "\n",
    "and our values $x$ and $y$ combine with multiplcation and addition to produce $z$.\n",
    "\n",
    "This is a differentiable function with inputs $x$ and $y$. \n",
    "We can compute the gradient at any point with math, with respect to each of these inputs.\n",
    "\n",
    "$ \\frac{\\partial}{\\partial x}(x^2 + y) = 2x $\n",
    "\n",
    "and\n",
    "\n",
    "$ \\frac{\\partial}{\\partial y}(x^2 + y) = 1 $\n",
    "\n",
    "The gradient, $(-1, 1)$ _is_ the update we need to apply to pick better $x$ and $y$ if we're starting at $(-0.5, 0.8)$\n",
    "\n",
    "What pytorch does with back propagation, is _automate this_ differentiation as a _graph operation_ so we can build up arbitrary models, and run training to _repeatedly_ pick better values $x$, $y$, ..., so the model \"trains\" and becomes useful. \n",
    "\n",
    "## Gradient Descent\n",
    "\n",
    "Gradient Descent is a mathematical algorithm which optimizes a function based on its derivative, in small steps.\n",
    "In pytorch we repeatedly apply back propagation to conduct back propagation. Gradient descent doesn't need to apply to Machine Learning, however. We will show how to optimize our example function above using `Gradient Descent`:\n",
    "\n",
    "![gradient_descent](./gradient_descent.png)\n",
    "\n",
    "While you're actively running and understanding this code - I recommend watching [3blue1brown's series visualizing and explaining Gradient Descent](https://youtube.com/playlist?list=PLZHQObOWTQDNU6R1_67000Dx_ZCJB-3pi).\n",
    "\n",
    "\n",
    "\n",
    "## Machine Learning Models\n",
    "From our perspective Machine Learning models are graphs/functions built up from `Tensor`s, and the output of the model is the function's output.\n",
    "\n",
    "\n",
    "\n",
    "\n",
    "\n",
    "# Let's start writing a Tensor!\n",
    "Now let's get to writing some code for a `Tensor` class, `Gradient Descent` and `Back Propagation`.\n"
   ]
  },
  {
   "cell_type": "markdown",
   "metadata": {},
   "source": [
    "\n",
    "## What to note for later\n",
    "You probably noticed the `requires_grad`. We'll see this more in the future.\n",
    "\n",
    "Some inputs have to come from your business problem and it wouldn't make sense for the model to optimize those.\n",
    "\n",
    "For instance we might predict a user's preference for an ad as $z$, and let the model optimize $x$, but $y$ would be the age of a user.\n",
    "\n",
    "This will become clearer with more real world models."
   ]
  },
  {
   "cell_type": "code",
   "execution_count": 2,
   "metadata": {},
   "outputs": [],
   "source": [
    "import collections\n",
    "import math\n",
    "\n",
    "from dataclasses import dataclass, field\n",
    "from typing import Callable, List, Optional\n",
    "\n",
    "\n",
    "@dataclass\n",
    "class MyTensor:\n",
    "    \"\"\"\n",
    "    Tensor basically means thing with values in it. We'll restrict\n",
    "    ourselves to single values in our tensors for learning purposes. \n",
    "    Pytorch Tensors actually hold n dimensional arrays of values,\n",
    "    to take advantage of parallel compute resources.\n",
    "\n",
    "    This class wraps individual float values, and allows us to call\n",
    "    * add\n",
    "    * multiply\n",
    "    on these values to build up a long equation.\n",
    "    \n",
    "    Then, we can call `backward` to compute and populate the gradient\n",
    "    all the way back through this graph.\n",
    "\n",
    "    We represent parent/child relationships with edges in a graph.\n",
    "    Those edges are tracked in `args`\n",
    "    \"\"\"\n",
    "    data: float\n",
    "    \n",
    "    # argument `MyTensor`s, e.g. z = MyTensor(3.0) * MyTensor(2.0)\n",
    "    # args = [Value(3.0), Value(2.0)]\n",
    "    args: List[\"MyTensor\"] = field(default_factory=list)\n",
    "\n",
    "    # grad_fn is a function that _the parent function MyTensor_ will call\n",
    "    # and pass in the gradient of that function with respect to this value.\n",
    "    # The recursive graph call exactly matches how the chain rule applies.\n",
    "    #\n",
    "    # Consider an example:\n",
    "    # This `MyTensor` instance is the function `f` and the parent node is `l`.\n",
    "    # \n",
    "    # Then the logical function is l(f(x, y)), and f(x, y) = x * y\n",
    "    # (or it could be f(x, y) = x + y, since `MyTensor` had multiplication and addition)\n",
    "    # \n",
    "    # The user invoked `backward` on `l`, or even one of `l`'s parents.\n",
    "    # All we need to know, is `l` called `grad_fn` and passed dl/df, in the argument, `grad`.\n",
    "    # \n",
    "    # When we define `grad_fn` we need to compute loss with respect to inputs, `x`, and `y`.\n",
    "    # and we need to update the `grad` field on those inputs.\n",
    "    # \n",
    "    # x.grad = dl/dx = dl/df * df/dx\n",
    "    # y.grad = dl/dy = dl/df * df/dy\n",
    "    # \n",
    "    # if f = x * y, what are df/dx, and df/dy? Look at each operation and you will see that we know this\n",
    "    # at compile time!\n",
    "    # \n",
    "    grad_fn: Callable = lambda grad: None\n",
    "    \n",
    "    # This is where the gradient gets stored after back propagation.\n",
    "    #\n",
    "    # Note that the gradient on this `MyTensor`\n",
    "    # is _with respect to_ some other parent `MyTensor`\n",
    "    # that was higher up in the math function. Otherwise without any graph, df/df = 1.\n",
    "    #\n",
    "    # By _some other parent `MyTensor` we mean,\n",
    "    # if the function is f(g(h(x, y))) and this value is h\n",
    "    # then backward may have been called on f, _or g_, or even h\n",
    "    # then `grad` would be df/dh, dg/dh, or dh/dh respectively.\n",
    "    grad: float = 0\n",
    "\n",
    "    def __eq__(self, o):\n",
    "        \"\"\"\n",
    "        Two Values are equal if they have the same float.\n",
    "        Also you can compare a Value to a plain float because that's convenient.\n",
    "        \"\"\"\n",
    "        if isinstance(o, MyTensor):\n",
    "            o = o.data\n",
    "        if not isinstance(o, float):\n",
    "            return False\n",
    "        return math.isclose(self.data, o)\n",
    "\n",
    "    def __add__(self, o) -> \"MyTensor\":\n",
    "        def grad_fn(grad):\n",
    "            self.grad += grad\n",
    "            o.grad += grad\n",
    "\n",
    "        # You can add a float to a tensor\n",
    "        # and we'll wrap it for convenience.\n",
    "        if not isinstance(o, MyTensor):\n",
    "            o = MyTensor(o)\n",
    "\n",
    "        return MyTensor(data = self.data + o.data, args=[self, o], grad_fn=grad_fn)\n",
    "\n",
    "    def __mul__(self, o) -> \"MyTensor\":\n",
    "        def grad_fn(grad):\n",
    "            \"\"\"\n",
    "            we need to compute loss with respect to inputs, `x`, and `y`.\n",
    "\n",
    "            x.grad = dl/dx = dl/df * df/dx\n",
    "            y.grad = dl/dy = dl/df * df/dy\n",
    "\n",
    "            if f = x * y, what are df/dx, and df/dy?\n",
    "            See the code below!\n",
    "\n",
    "            \"\"\"\n",
    "            # raise Exception(\"you need to implement this\")\n",
    "            self.grad += grad * o.data\n",
    "            o.grad += grad * self.data\n",
    "\n",
    "        if not isinstance(o, MyTensor):\n",
    "            o = MyTensor(o)\n",
    "        return MyTensor(data = self.data * o.data, args=[self, o], grad_fn=grad_fn)\n",
    "    \n",
    "    def relu(self) -> \"MyTensor\":\n",
    "        \"\"\"\n",
    "        We will need one quirky operation, a \"Rectified Linear Unit\".\n",
    "        This will be our \"non linearity\":\n",
    "        * which goes in between \"linear\" (add and multiply) operations to increase\n",
    "            out models function domain, and\n",
    "        * which is still _essentially_ differentiable,\n",
    "\n",
    "        For the surprising flexibility of neural networks with non-linearities,\n",
    "        see the https://en.wikipedia.org/wiki/Universal_approximation_theorem\n",
    "\n",
    "        If there is a competition for making simple things intimidating,\n",
    "        ReLU should be a top contender.\n",
    "        \n",
    "        ReLU is just f(x) = max(x, 0)\n",
    "        \"\"\"\n",
    "        def grad_fn(grad):\n",
    "            return max(grad, 0)\n",
    "        return MyTensor(data = max(self.data, 0), args=[self], grad_fn=grad_fn)\n",
    "    \n",
    "\n",
    "    def backward(self, grad=1) -> None:\n",
    "        \"\"\"\n",
    "        Do back propagation from this `MyTensor` to its leaf nodes!\n",
    "        \n",
    "        This value presumabl has a graph of predecessors, or else not much happens.\n",
    "        \n",
    "        All those predecessors will now get their grad set w.r.t this `MyTensor`.\n",
    "        Backward will compute grad_fn working back from this `MyTensor` to\n",
    "        all the leaves.\n",
    "        \"\"\"\n",
    "        # gradient with respect to myself is 1.\n",
    "        # dl/dl = 1\n",
    "        self.grad = 1\n",
    "\n",
    "        queue = collections.deque([self])\n",
    "        while queue:\n",
    "            node = queue.popleft()\n",
    "            node.grad_fn(node.grad)\n",
    "            queue.extend(node.args)\n"
   ]
  },
  {
   "cell_type": "code",
   "execution_count": 3,
   "metadata": {},
   "outputs": [
    {
     "name": "stderr",
     "output_type": "stream",
     "text": [
      "test_aggregated_gradient (__main__.TestAutoGrad.test_aggregated_gradient) ... ok\n",
      "test_layered (__main__.TestAutoGrad.test_layered) ... ok\n",
      "test_math_without_grad (__main__.TestAutoGrad.test_math_without_grad) ... ok\n",
      "test_our_example_function (__main__.TestAutoGrad.test_our_example_function) ... ok\n",
      "test_simple_gradient (__main__.TestAutoGrad.test_simple_gradient) ... ok\n",
      "\n",
      "----------------------------------------------------------------------\n",
      "Ran 5 tests in 0.002s\n",
      "\n",
      "OK\n"
     ]
    },
    {
     "data": {
      "text/plain": [
       "<unittest.main.TestProgram at 0x7efeb194b9d0>"
      ]
     },
     "execution_count": 3,
     "metadata": {},
     "output_type": "execute_result"
    }
   ],
   "source": [
    "import unittest\n",
    "\n",
    "class TestAutoGrad(unittest.TestCase):\n",
    "    \"\"\"\n",
    "    Run these test cases to make sure your update works\n",
    "    \"\"\"\n",
    "    def tensor(self, x: float, **kwargs):\n",
    "        # Try replacing MyTensor with torch.tensor. The results should be the same!\n",
    "        # return torch.tensor(x, **kwargs)\n",
    "        return MyTensor(x)\n",
    "\n",
    "    def test_math_without_grad(self):\n",
    "        # Test that regular math works\n",
    "        self.assertEqual((self.tensor(3.0) * self.tensor(2.0) + self.tensor(5.0)), 11.0)\n",
    "        self.assertNotEqual((self.tensor(3.0) * self.tensor(2.0) + self.tensor(5.0)), 12.0)\n",
    "    \n",
    "    def test_simple_gradient(self):\n",
    "        c = self.tensor(3.0, requires_grad=True)\n",
    "        x = self.tensor(5.0)\n",
    "        o = c * x\n",
    "\n",
    "        o.backward()\n",
    "        self.assertEqual(c.grad, x)\n",
    "\n",
    "    def test_our_example_function(self):\n",
    "        x = self.tensor(-0.5, requires_grad=True)\n",
    "        y = self.tensor(0.8, requires_grad=True)\n",
    "        o = (x*x) + y\n",
    "\n",
    "        o.backward()\n",
    "        self.assertEqual(x.grad, -1.0)\n",
    "        self.assertEqual(y.grad, 1.0)\n",
    "    \n",
    "    \n",
    "    def test_aggregated_gradient(self):\n",
    "        # If a `MyTensor` has two parents then\n",
    "        # the gradient has contributions from both.\n",
    "        \n",
    "        c = self.tensor(3.0, requires_grad=True)\n",
    "        x = self.tensor(5.0)\n",
    "        y = self.tensor(7.0)\n",
    "        o = (c*x) + (c*y)\n",
    "        o.backward()\n",
    "        self.assertEqual(c.grad, (x+y))\n",
    "\n",
    "    def test_layered(self):\n",
    "        w1 = self.tensor(3.0, requires_grad=True)\n",
    "        w2 = self.tensor(5.0, requires_grad=True)\n",
    "        w3 = self.tensor(7.0, requires_grad=True)\n",
    "\n",
    "        a = self.tensor(37.0)\n",
    "        b = self.tensor(43.0)\n",
    "\n",
    "        x1 = self.tensor(11.0)\n",
    "        x2 = self.tensor(13.0)\n",
    "        x3 = self.tensor(17.0)\n",
    "        x4 = self.tensor(19.0)\n",
    "        x5 = self.tensor(23.0)\n",
    "        x6 = self.tensor(27.0)\n",
    "\n",
    "        o = a * ((w1 * x1) + \\\n",
    "        (w2 * x2) + \\\n",
    "        (w3 * x3)) + \\\n",
    "        b * ((w1 * x4) + \\\n",
    "        (w2 * x5) + \\\n",
    "        (w3 * x6))\n",
    "        \n",
    "        o.backward()\n",
    "        self.assertEqual(w1.grad, a*x1 + b*x4)\n",
    "        self.assertEqual(w2.grad, a*x2 + b*x5)\n",
    "        self.assertEqual(w3.grad, a*x3 + b*x6)\n",
    "\n",
    "\n",
    "unittest.main(argv=[\"\"], verbosity=2, exit=False)"
   ]
  },
  {
   "cell_type": "markdown",
   "metadata": {},
   "source": [
    "# Gradient Descent on our simple function using MyTensor and Back Propagation"
   ]
  },
  {
   "cell_type": "code",
   "execution_count": 4,
   "metadata": {},
   "outputs": [
    {
     "name": "stdout",
     "output_type": "stream",
     "text": [
      "[-0.5, -0.45, -0.405, -0.36450000000000005, -0.32805000000000006, -0.29524500000000004, -0.2657205, -0.23914845, -0.215233605, -0.1937102445]\n",
      "[0.8, 0.75, 0.7, 0.6499999999999999, 0.5999999999999999, 0.5499999999999998, 0.49999999999999983, 0.44999999999999984, 0.39999999999999986, 0.34999999999999987]\n",
      "[1.05, 0.9525, 0.864025, 0.7828602499999999, 0.7076168024999999, 0.6371696100249998, 0.5706073841202498, 0.5071919811374024, 0.4463255047212959, 0.38752365882424966]\n"
     ]
    }
   ],
   "source": [
    "# We can repeatedly backpropagate and slight \"improve\" x and y, to greatly reduce z.\n",
    "\n",
    "x, y = MyTensor(-0.5), MyTensor(0.8)\n",
    "\n",
    "# tracking these separately will make graphing easier.\n",
    "x_history, y_history, z_history = [], [], []\n",
    " \n",
    "# We want to pick a small multiple of the gradient\n",
    "# to keep the steps reasonable.\n",
    "learn_rate = 0.05\n",
    "def F(x, y):\n",
    "    return x*x + y\n",
    "    \n",
    "for i in range(10):\n",
    "    z = F(x, y)\n",
    "    x_history.append(x.data)\n",
    "    y_history.append(y.data)\n",
    "    z_history.append(z.data)\n",
    "    z.backward()\n",
    "    x = MyTensor(x.data - learn_rate * x.grad)\n",
    "    y = MyTensor(y.data - learn_rate * y.grad)\n",
    "\n",
    "\n",
    "print(x_history)\n",
    "print(y_history)\n",
    "print(z_history)"
   ]
  },
  {
   "cell_type": "markdown",
   "metadata": {},
   "source": [
    "# Gradient Descent Optimizes our Function\n",
    "By choosing small updates based on the gradient, \n",
    "our function slowly produces minimized outputs."
   ]
  },
  {
   "cell_type": "code",
   "execution_count": 5,
   "metadata": {},
   "outputs": [
    {
     "data": {
      "image/png": "[encoded data removed]",
      "text/plain": [
       "<Figure size 640x480 with 2 Axes>"
      ]
     },
     "metadata": {},
     "output_type": "display_data"
    }
   ],
   "source": [
    "# This cell plots the gradient descent values we collected.\n",
    "\n",
    "import matplotlib.pyplot as plt\n",
    "from matplotlib import cm\n",
    "from matplotlib.ticker import LinearLocator\n",
    "import numpy as np\n",
    "\n",
    "fig, ax = plt.subplots(subplot_kw={\"projection\": \"3d\"})\n",
    "\n",
    "# Make data.\n",
    "X = np.arange(-1, 1, 0.05)\n",
    "Y = np.arange(-1, 1, 0.05)\n",
    "X, Y = np.meshgrid(X, Y)\n",
    "Z = X**2 + Y\n",
    "\n",
    "# Plot the surface.\n",
    "surf = ax.plot_surface(X, Y, Z, alpha=0.5, cmap=cm.coolwarm,\n",
    "                       linewidth=0, antialiased=False)\n",
    "\n",
    "ax.scatter(x_history, y_history, z_history, color='black', zorder=10)\n",
    "# Customize the z axis.\n",
    "ax.set_zlim(-1.01, 1.01)\n",
    "ax.zaxis.set_major_locator(LinearLocator(10))\n",
    "# A StrMethodFormatter is used automatically\n",
    "ax.zaxis.set_major_formatter('{x:.02f}')\n",
    "\n",
    "# Add a color bar which maps values to colors.\n",
    "fig.colorbar(surf, shrink=0.5, aspect=5)\n",
    "\n",
    "plt.show()"
   ]
  },
  {
   "cell_type": "markdown",
   "metadata": {},
   "source": [
    "# Writing our own Neural Network based on MyTensor\n",
    "\n",
    "You'll see below that a Neural Network is basically just a series of additions, multiplications, in a graph of `MyTensor`. Gradient Descent is the real \"secret sauce\".\n",
    "\n",
    "The only surprising addition is the \"non-linearity\", Rectified Linear Unit (ReLU) which is `relu(x) = max(x, 0)`. \n",
    "\n",
    "When we apply a \"non-linearity\" (see the comment in MyTensor.relu) on top of otherwise linear (add, multiply) operations, and apply gradient descent, we have a broadly applicable and differentiable function approximator!\n",
    "\n",
    "Broadly applicable is obviously good. Differentiable means we can improve the\n",
    "function using gradient descent.\n",
    "\n",
    "## Attribution:\n",
    "This code is basically exactly the same as:\n",
    "https://github.com/karpathy/micrograd/blob/master/micrograd/nn.py\n",
    "\"\"\"\n"
   ]
  },
  {
   "cell_type": "code",
   "execution_count": 6,
   "metadata": {},
   "outputs": [
    {
     "name": "stdout",
     "output_type": "stream",
     "text": [
      "MyTensor(data=1.911865958564714, args=[MyTensor(data=1.911865958564714, args=[MyTensor(data=1.1578334762439764, args=[MyTensor(data=1.038780040503263, args=[MyTensor(data=0.2571998746833186, args=[], grad_fn=<function MyTensor.<lambda> at 0x7efeb058bd80>, grad=0), MyTensor(data=0.7815801658199444, args=[MyTensor(data=0.7815801658199444, args=[], grad_fn=<function MyTensor.<lambda> at 0x7efeb058bd80>, grad=0), MyTensor(data=1, args=[], grad_fn=<function MyTensor.<lambda> at 0x7efeb058bd80>, grad=0)], grad_fn=<function MyTensor.__mul__.<locals>.grad_fn at 0x7efea7aca480>, grad=0)], grad_fn=<function MyTensor.__add__.<locals>.grad_fn at 0x7efea7aca020>, grad=0), MyTensor(data=0.11905343574071336, args=[MyTensor(data=0.11905343574071336, args=[], grad_fn=<function MyTensor.<lambda> at 0x7efeb058bd80>, grad=0), MyTensor(data=1, args=[], grad_fn=<function MyTensor.<lambda> at 0x7efeb058bd80>, grad=0)], grad_fn=<function MyTensor.__mul__.<locals>.grad_fn at 0x7efea7aca520>, grad=0)], grad_fn=<function MyTensor.__add__.<locals>.grad_fn at 0x7efea7aca5c0>, grad=0), MyTensor(data=0.7540324823207376, args=[MyTensor(data=0.7540324823207376, args=[], grad_fn=<function MyTensor.<lambda> at 0x7efeb058bd80>, grad=0), MyTensor(data=1, args=[], grad_fn=<function MyTensor.<lambda> at 0x7efeb058bd80>, grad=0)], grad_fn=<function MyTensor.__mul__.<locals>.grad_fn at 0x7efea7aca660>, grad=0)], grad_fn=<function MyTensor.__add__.<locals>.grad_fn at 0x7efea7aca700>, grad=0)], grad_fn=<function MyTensor.relu.<locals>.grad_fn at 0x7efea7ac9a80>, grad=0)\n",
      "[MyTensor(data=0.9427478297394787, args=[MyTensor(data=0.9427478297394787, args=[MyTensor(data=0.6995056590305451, args=[MyTensor(data=-0.24988865186878018, args=[MyTensor(data=-0.8197756786120065, args=[], grad_fn=<function MyTensor.<lambda> at 0x7efeb058bd80>, grad=0), MyTensor(data=0.5698870267432263, args=[MyTensor(data=0.5698870267432263, args=[], grad_fn=<function MyTensor.<lambda> at 0x7efeb058bd80>, grad=0), MyTensor(data=1, args=[], grad_fn=<function MyTensor.<lambda> at 0x7efeb058bd80>, grad=0)], grad_fn=<function MyTensor.__mul__.<locals>.grad_fn at 0x7efea7aca660>, grad=0)], grad_fn=<function MyTensor.__add__.<locals>.grad_fn at 0x7efea7aca5c0>, grad=0), MyTensor(data=0.9493943108993252, args=[MyTensor(data=0.9493943108993252, args=[], grad_fn=<function MyTensor.<lambda> at 0x7efeb058bd80>, grad=0), MyTensor(data=1, args=[], grad_fn=<function MyTensor.<lambda> at 0x7efeb058bd80>, grad=0)], grad_fn=<function MyTensor.__mul__.<locals>.grad_fn at 0x7efea7aca520>, grad=0)], grad_fn=<function MyTensor.__add__.<locals>.grad_fn at 0x7efea7aca020>, grad=0), MyTensor(data=0.2432421707089336, args=[MyTensor(data=0.2432421707089336, args=[], grad_fn=<function MyTensor.<lambda> at 0x7efeb058bd80>, grad=0), MyTensor(data=1, args=[], grad_fn=<function MyTensor.<lambda> at 0x7efeb058bd80>, grad=0)], grad_fn=<function MyTensor.__mul__.<locals>.grad_fn at 0x7efea7aca480>, grad=0)], grad_fn=<function MyTensor.__add__.<locals>.grad_fn at 0x7efea7aca840>, grad=0)], grad_fn=<function MyTensor.relu.<locals>.grad_fn at 0x7efea7ac9a80>, grad=0), MyTensor(data=1.2862727171963102, args=[MyTensor(data=1.2862727171963102, args=[MyTensor(data=2.072113469091855, args=[MyTensor(data=1.2401111262666882, args=[MyTensor(data=0.645393581954647, args=[], grad_fn=<function MyTensor.<lambda> at 0x7efeb058bd80>, grad=0), MyTensor(data=0.5947175443120412, args=[MyTensor(data=0.5947175443120412, args=[], grad_fn=<function MyTensor.<lambda> at 0x7efeb058bd80>, grad=0), MyTensor(data=1, args=[], grad_fn=<function MyTensor.<lambda> at 0x7efeb058bd80>, grad=0)], grad_fn=<function MyTensor.__mul__.<locals>.grad_fn at 0x7efea7aca980>, grad=0)], grad_fn=<function MyTensor.__add__.<locals>.grad_fn at 0x7efea7acaa20>, grad=0), MyTensor(data=0.832002342825167, args=[MyTensor(data=0.832002342825167, args=[], grad_fn=<function MyTensor.<lambda> at 0x7efeb058bd80>, grad=0), MyTensor(data=1, args=[], grad_fn=<function MyTensor.<lambda> at 0x7efeb058bd80>, grad=0)], grad_fn=<function MyTensor.__mul__.<locals>.grad_fn at 0x7efea7acaac0>, grad=0)], grad_fn=<function MyTensor.__add__.<locals>.grad_fn at 0x7efea7acab60>, grad=0), MyTensor(data=-0.7858407518955448, args=[MyTensor(data=-0.7858407518955448, args=[], grad_fn=<function MyTensor.<lambda> at 0x7efeb058bd80>, grad=0), MyTensor(data=1, args=[], grad_fn=<function MyTensor.<lambda> at 0x7efeb058bd80>, grad=0)], grad_fn=<function MyTensor.__mul__.<locals>.grad_fn at 0x7efea7acac00>, grad=0)], grad_fn=<function MyTensor.__add__.<locals>.grad_fn at 0x7efea7acaca0>, grad=0)], grad_fn=<function MyTensor.relu.<locals>.grad_fn at 0x7efea7aca8e0>, grad=0)]\n",
      "[MyTensor(data=0, args=[MyTensor(data=-0.01300300254840625, args=[MyTensor(data=-0.01300300254840625, args=[MyTensor(data=-0.01300300254840625, args=[], grad_fn=<function MyTensor.<lambda> at 0x7efeb058bd80>, grad=0), MyTensor(data=-0.0, args=[MyTensor(data=-0.3321915857652529, args=[], grad_fn=<function MyTensor.<lambda> at 0x7efeb058bd80>, grad=0), MyTensor(data=0, args=[MyTensor(data=-0.9935868033578532, args=[MyTensor(data=-0.8320110432601455, args=[MyTensor(data=-0.24642129585041306, args=[MyTensor(data=0.6582150374680398, args=[], grad_fn=<function MyTensor.<lambda> at 0x7efeb058bd80>, grad=0), MyTensor(data=-0.9046363333184528, args=[MyTensor(data=-0.9046363333184528, args=[], grad_fn=<function MyTensor.<lambda> at 0x7efeb058bd80>, grad=0), MyTensor(data=1, args=[], grad_fn=<function MyTensor.<lambda> at 0x7efeb058bd80>, grad=0)], grad_fn=<function MyTensor.__mul__.<locals>.grad_fn at 0x7efea7aca480>, grad=0)], grad_fn=<function MyTensor.__add__.<locals>.grad_fn at 0x7efea7aca020>, grad=0), MyTensor(data=-0.5855897474097325, args=[MyTensor(data=-0.5855897474097325, args=[], grad_fn=<function MyTensor.<lambda> at 0x7efeb058bd80>, grad=0), MyTensor(data=1, args=[], grad_fn=<function MyTensor.<lambda> at 0x7efeb058bd80>, grad=0)], grad_fn=<function MyTensor.__mul__.<locals>.grad_fn at 0x7efea7aca520>, grad=0)], grad_fn=<function MyTensor.__add__.<locals>.grad_fn at 0x7efea7aca5c0>, grad=0), MyTensor(data=-0.1615757600977077, args=[MyTensor(data=-0.1615757600977077, args=[], grad_fn=<function MyTensor.<lambda> at 0x7efeb058bd80>, grad=0), MyTensor(data=1, args=[], grad_fn=<function MyTensor.<lambda> at 0x7efeb058bd80>, grad=0)], grad_fn=<function MyTensor.__mul__.<locals>.grad_fn at 0x7efea7aca660>, grad=0)], grad_fn=<function MyTensor.__add__.<locals>.grad_fn at 0x7efea7aca8e0>, grad=0)], grad_fn=<function MyTensor.relu.<locals>.grad_fn at 0x7efea7ac9a80>, grad=0)], grad_fn=<function MyTensor.__mul__.<locals>.grad_fn at 0x7efea7acade0>, grad=0)], grad_fn=<function MyTensor.__add__.<locals>.grad_fn at 0x7efea7acae80>, grad=0), MyTensor(data=-0.0, args=[MyTensor(data=-0.6481954428492118, args=[], grad_fn=<function MyTensor.<lambda> at 0x7efeb058bd80>, grad=0), MyTensor(data=0, args=[MyTensor(data=-1.2778599420589194, args=[MyTensor(data=-1.2959840783333496, args=[MyTensor(data=-1.6146968327829798, args=[MyTensor(data=-0.8360408179532901, args=[], grad_fn=<function MyTensor.<lambda> at 0x7efeb058bd80>, grad=0), MyTensor(data=-0.7786560148296897, args=[MyTensor(data=-0.7786560148296897, args=[], grad_fn=<function MyTensor.<lambda> at 0x7efeb058bd80>, grad=0), MyTensor(data=1, args=[], grad_fn=<function MyTensor.<lambda> at 0x7efeb058bd80>, grad=0)], grad_fn=<function MyTensor.__mul__.<locals>.grad_fn at 0x7efea7acac00>, grad=0)], grad_fn=<function MyTensor.__add__.<locals>.grad_fn at 0x7efea7acab60>, grad=0), MyTensor(data=0.3187127544496302, args=[MyTensor(data=0.3187127544496302, args=[], grad_fn=<function MyTensor.<lambda> at 0x7efeb058bd80>, grad=0), MyTensor(data=1, args=[], grad_fn=<function MyTensor.<lambda> at 0x7efeb058bd80>, grad=0)], grad_fn=<function MyTensor.__mul__.<locals>.grad_fn at 0x7efea7acaac0>, grad=0)], grad_fn=<function MyTensor.__add__.<locals>.grad_fn at 0x7efea7acaa20>, grad=0), MyTensor(data=0.018124136274430214, args=[MyTensor(data=0.018124136274430214, args=[], grad_fn=<function MyTensor.<lambda> at 0x7efeb058bd80>, grad=0), MyTensor(data=1, args=[], grad_fn=<function MyTensor.<lambda> at 0x7efeb058bd80>, grad=0)], grad_fn=<function MyTensor.__mul__.<locals>.grad_fn at 0x7efea7aca980>, grad=0)], grad_fn=<function MyTensor.__add__.<locals>.grad_fn at 0x7efea7aca700>, grad=0)], grad_fn=<function MyTensor.relu.<locals>.grad_fn at 0x7efea7acaca0>, grad=0)], grad_fn=<function MyTensor.__mul__.<locals>.grad_fn at 0x7efea7acaf20>, grad=0)], grad_fn=<function MyTensor.__add__.<locals>.grad_fn at 0x7efea7acafc0>, grad=0)], grad_fn=<function MyTensor.relu.<locals>.grad_fn at 0x7efea7acad40>, grad=0), MyTensor(data=0, args=[MyTensor(data=-0.6077950134341159, args=[MyTensor(data=-0.6077950134341159, args=[MyTensor(data=-0.6077950134341159, args=[], grad_fn=<function MyTensor.<lambda> at 0x7efeb058bd80>, grad=0), MyTensor(data=-0.0, args=[MyTensor(data=-0.26194120853696634, args=[], grad_fn=<function MyTensor.<lambda> at 0x7efeb058bd80>, grad=0), MyTensor(data=0, args=[MyTensor(data=-0.9935868033578532, args=[MyTensor(data=-0.8320110432601455, args=[MyTensor(data=-0.24642129585041306, args=[MyTensor(data=0.6582150374680398, args=[], grad_fn=<function MyTensor.<lambda> at 0x7efeb058bd80>, grad=0), MyTensor(data=-0.9046363333184528, args=[MyTensor(data=-0.9046363333184528, args=[], grad_fn=<function MyTensor.<lambda> at 0x7efeb058bd80>, grad=0), MyTensor(data=1, args=[], grad_fn=<function MyTensor.<lambda> at 0x7efeb058bd80>, grad=0)], grad_fn=<function MyTensor.__mul__.<locals>.grad_fn at 0x7efea7aca480>, grad=0)], grad_fn=<function MyTensor.__add__.<locals>.grad_fn at 0x7efea7aca020>, grad=0), MyTensor(data=-0.5855897474097325, args=[MyTensor(data=-0.5855897474097325, args=[], grad_fn=<function MyTensor.<lambda> at 0x7efeb058bd80>, grad=0), MyTensor(data=1, args=[], grad_fn=<function MyTensor.<lambda> at 0x7efeb058bd80>, grad=0)], grad_fn=<function MyTensor.__mul__.<locals>.grad_fn at 0x7efea7aca520>, grad=0)], grad_fn=<function MyTensor.__add__.<locals>.grad_fn at 0x7efea7aca5c0>, grad=0), MyTensor(data=-0.1615757600977077, args=[MyTensor(data=-0.1615757600977077, args=[], grad_fn=<function MyTensor.<lambda> at 0x7efeb058bd80>, grad=0), MyTensor(data=1, args=[], grad_fn=<function MyTensor.<lambda> at 0x7efeb058bd80>, grad=0)], grad_fn=<function MyTensor.__mul__.<locals>.grad_fn at 0x7efea7aca660>, grad=0)], grad_fn=<function MyTensor.__add__.<locals>.grad_fn at 0x7efea7aca8e0>, grad=0)], grad_fn=<function MyTensor.relu.<locals>.grad_fn at 0x7efea7ac9a80>, grad=0)], grad_fn=<function MyTensor.__mul__.<locals>.grad_fn at 0x7efea7acb100>, grad=0)], grad_fn=<function MyTensor.__add__.<locals>.grad_fn at 0x7efea7acb1a0>, grad=0), MyTensor(data=-0.0, args=[MyTensor(data=-0.885224819034417, args=[], grad_fn=<function MyTensor.<lambda> at 0x7efeb058bd80>, grad=0), MyTensor(data=0, args=[MyTensor(data=-1.2778599420589194, args=[MyTensor(data=-1.2959840783333496, args=[MyTensor(data=-1.6146968327829798, args=[MyTensor(data=-0.8360408179532901, args=[], grad_fn=<function MyTensor.<lambda> at 0x7efeb058bd80>, grad=0), MyTensor(data=-0.7786560148296897, args=[MyTensor(data=-0.7786560148296897, args=[], grad_fn=<function MyTensor.<lambda> at 0x7efeb058bd80>, grad=0), MyTensor(data=1, args=[], grad_fn=<function MyTensor.<lambda> at 0x7efeb058bd80>, grad=0)], grad_fn=<function MyTensor.__mul__.<locals>.grad_fn at 0x7efea7acac00>, grad=0)], grad_fn=<function MyTensor.__add__.<locals>.grad_fn at 0x7efea7acab60>, grad=0), MyTensor(data=0.3187127544496302, args=[MyTensor(data=0.3187127544496302, args=[], grad_fn=<function MyTensor.<lambda> at 0x7efeb058bd80>, grad=0), MyTensor(data=1, args=[], grad_fn=<function MyTensor.<lambda> at 0x7efeb058bd80>, grad=0)], grad_fn=<function MyTensor.__mul__.<locals>.grad_fn at 0x7efea7acaac0>, grad=0)], grad_fn=<function MyTensor.__add__.<locals>.grad_fn at 0x7efea7acaa20>, grad=0), MyTensor(data=0.018124136274430214, args=[MyTensor(data=0.018124136274430214, args=[], grad_fn=<function MyTensor.<lambda> at 0x7efeb058bd80>, grad=0), MyTensor(data=1, args=[], grad_fn=<function MyTensor.<lambda> at 0x7efeb058bd80>, grad=0)], grad_fn=<function MyTensor.__mul__.<locals>.grad_fn at 0x7efea7aca980>, grad=0)], grad_fn=<function MyTensor.__add__.<locals>.grad_fn at 0x7efea7aca700>, grad=0)], grad_fn=<function MyTensor.relu.<locals>.grad_fn at 0x7efea7acaca0>, grad=0)], grad_fn=<function MyTensor.__mul__.<locals>.grad_fn at 0x7efea7acb240>, grad=0)], grad_fn=<function MyTensor.__add__.<locals>.grad_fn at 0x7efea7acb2e0>, grad=0)], grad_fn=<function MyTensor.relu.<locals>.grad_fn at 0x7efea7acb060>, grad=0), MyTensor(data=0, args=[MyTensor(data=-0.5090750200315353, args=[MyTensor(data=-0.5090750200315353, args=[MyTensor(data=-0.5090750200315353, args=[], grad_fn=<function MyTensor.<lambda> at 0x7efeb058bd80>, grad=0), MyTensor(data=-0.0, args=[MyTensor(data=-0.03535562095664124, args=[], grad_fn=<function MyTensor.<lambda> at 0x7efeb058bd80>, grad=0), MyTensor(data=0, args=[MyTensor(data=-0.9935868033578532, args=[MyTensor(data=-0.8320110432601455, args=[MyTensor(data=-0.24642129585041306, args=[MyTensor(data=0.6582150374680398, args=[], grad_fn=<function MyTensor.<lambda> at 0x7efeb058bd80>, grad=0), MyTensor(data=-0.9046363333184528, args=[MyTensor(data=-0.9046363333184528, args=[], grad_fn=<function MyTensor.<lambda> at 0x7efeb058bd80>, grad=0), MyTensor(data=1, args=[], grad_fn=<function MyTensor.<lambda> at 0x7efeb058bd80>, grad=0)], grad_fn=<function MyTensor.__mul__.<locals>.grad_fn at 0x7efea7aca480>, grad=0)], grad_fn=<function MyTensor.__add__.<locals>.grad_fn at 0x7efea7aca020>, grad=0), MyTensor(data=-0.5855897474097325, args=[MyTensor(data=-0.5855897474097325, args=[], grad_fn=<function MyTensor.<lambda> at 0x7efeb058bd80>, grad=0), MyTensor(data=1, args=[], grad_fn=<function MyTensor.<lambda> at 0x7efeb058bd80>, grad=0)], grad_fn=<function MyTensor.__mul__.<locals>.grad_fn at 0x7efea7aca520>, grad=0)], grad_fn=<function MyTensor.__add__.<locals>.grad_fn at 0x7efea7aca5c0>, grad=0), MyTensor(data=-0.1615757600977077, args=[MyTensor(data=-0.1615757600977077, args=[], grad_fn=<function MyTensor.<lambda> at 0x7efeb058bd80>, grad=0), MyTensor(data=1, args=[], grad_fn=<function MyTensor.<lambda> at 0x7efeb058bd80>, grad=0)], grad_fn=<function MyTensor.__mul__.<locals>.grad_fn at 0x7efea7aca660>, grad=0)], grad_fn=<function MyTensor.__add__.<locals>.grad_fn at 0x7efea7aca8e0>, grad=0)], grad_fn=<function MyTensor.relu.<locals>.grad_fn at 0x7efea7ac9a80>, grad=0)], grad_fn=<function MyTensor.__mul__.<locals>.grad_fn at 0x7efea7acb420>, grad=0)], grad_fn=<function MyTensor.__add__.<locals>.grad_fn at 0x7efea7acb4c0>, grad=0), MyTensor(data=0.0, args=[MyTensor(data=0.4795574768932611, args=[], grad_fn=<function MyTensor.<lambda> at 0x7efeb058bd80>, grad=0), MyTensor(data=0, args=[MyTensor(data=-1.2778599420589194, args=[MyTensor(data=-1.2959840783333496, args=[MyTensor(data=-1.6146968327829798, args=[MyTensor(data=-0.8360408179532901, args=[], grad_fn=<function MyTensor.<lambda> at 0x7efeb058bd80>, grad=0), MyTensor(data=-0.7786560148296897, args=[MyTensor(data=-0.7786560148296897, args=[], grad_fn=<function MyTensor.<lambda> at 0x7efeb058bd80>, grad=0), MyTensor(data=1, args=[], grad_fn=<function MyTensor.<lambda> at 0x7efeb058bd80>, grad=0)], grad_fn=<function MyTensor.__mul__.<locals>.grad_fn at 0x7efea7acac00>, grad=0)], grad_fn=<function MyTensor.__add__.<locals>.grad_fn at 0x7efea7acab60>, grad=0), MyTensor(data=0.3187127544496302, args=[MyTensor(data=0.3187127544496302, args=[], grad_fn=<function MyTensor.<lambda> at 0x7efeb058bd80>, grad=0), MyTensor(data=1, args=[], grad_fn=<function MyTensor.<lambda> at 0x7efeb058bd80>, grad=0)], grad_fn=<function MyTensor.__mul__.<locals>.grad_fn at 0x7efea7acaac0>, grad=0)], grad_fn=<function MyTensor.__add__.<locals>.grad_fn at 0x7efea7acaa20>, grad=0), MyTensor(data=0.018124136274430214, args=[MyTensor(data=0.018124136274430214, args=[], grad_fn=<function MyTensor.<lambda> at 0x7efeb058bd80>, grad=0), MyTensor(data=1, args=[], grad_fn=<function MyTensor.<lambda> at 0x7efeb058bd80>, grad=0)], grad_fn=<function MyTensor.__mul__.<locals>.grad_fn at 0x7efea7aca980>, grad=0)], grad_fn=<function MyTensor.__add__.<locals>.grad_fn at 0x7efea7aca700>, grad=0)], grad_fn=<function MyTensor.relu.<locals>.grad_fn at 0x7efea7acaca0>, grad=0)], grad_fn=<function MyTensor.__mul__.<locals>.grad_fn at 0x7efea7acb560>, grad=0)], grad_fn=<function MyTensor.__add__.<locals>.grad_fn at 0x7efea7acb600>, grad=0)], grad_fn=<function MyTensor.relu.<locals>.grad_fn at 0x7efea7acb380>, grad=0)]\n"
     ]
    }
   ],
   "source": [
    "import random\n",
    "from typing import List\n",
    "\n",
    "def randomized_value():\n",
    "        return MyTensor(random.uniform(-1, 1))\n",
    "\n",
    "class Module:\n",
    "    \"\"\"\n",
    "    This just gives us the ability to reset gradients.\n",
    "    \"\"\"\n",
    "\n",
    "    def zero_grad(self):\n",
    "        for p in self.parameters():\n",
    "            p.grad = 0\n",
    "    \n",
    "    def parameters(self) -> List[MyTensor]:\n",
    "        \"\"\"\n",
    "        Each \"Module\" needs to return a list of MyTensor which\n",
    "        should be included in \"resetting\".\n",
    "        \"\"\"\n",
    "        raise Exception(\"This is expected to be implemented in Modules\")\n",
    "\n",
    "\n",
    "class Neuron(Module):\n",
    "    \"\"\"\n",
    "    A Neuron has it's own \"weights\", and a \"bias\" which are `MyTensor` values to optimize.\n",
    "    It also accepts inputs from your problem domain - which won't be optimized.\n",
    "    The output is:\n",
    "    \n",
    "    weight * input + bias\n",
    "    \n",
    "    Then we apply the \"non-linearity\" to give the model more expressive power.\n",
    "    \"\"\"\n",
    "    def __init__(self, input_len: int):\n",
    "        self.weights = [randomized_value() for _ in range(input_len)]\n",
    "        self.bias = randomized_value()\n",
    "    \n",
    "    def __call__(self, input):\n",
    "        if len(input) != len(self.weights):\n",
    "            raise Exception(f\"got input of length{len(input)}, expected input of length {len(self.weights)}\")\n",
    "        output = sum((w * i for (w, i) in zip(self.weights, input)), self.bias)\n",
    "        return output.relu()\n",
    "    \n",
    "    def parameters(self) -> List[MyTensor]:\n",
    "        return self.weights + [self.bias]\n",
    "\n",
    "class Layer(Module):\n",
    "    \"\"\"\n",
    "    This is an array of Neurons.\n",
    "    \"\"\"\n",
    "    \n",
    "    def __init__(self, num_inputs: int, num_outputs: int):\n",
    "        self.neurons = [Neuron(num_inputs) for _ in range(num_outputs)]\n",
    "    \n",
    "    def __call__(self, inputs):\n",
    "        return [neuron(inputs) for neuron in self.neurons]\n",
    "     \n",
    "    def parameters(self) -> List[MyTensor]:\n",
    "        return [p for n in self.neurons for p in n.parameters()]\n",
    "\n",
    "class MultiLayerPerceptron(Module):\n",
    "    \"\"\"\n",
    "    This is an array of Layers.\n",
    "    \"\"\"\n",
    "    def __init__(self, input_len: int, layer_output_lens: List[int]):\n",
    "\n",
    "        self.layers = []\n",
    "        for output_len in layer_output_lens:\n",
    "            self.layers.append(Layer(input_len, output_len))\n",
    "            input_len = output_len\n",
    "\n",
    "    def __call__(self, inputs):\n",
    "        out = inputs\n",
    "    \n",
    "        for layer in self.layers:\n",
    "            out = layer(out)\n",
    "\n",
    "        return out\n",
    "     \n",
    "    def parameters(self) -> List[MyTensor]:\n",
    "        return [p for l in self.layers for p in l.parameters()]\n",
    "\n",
    "print(Neuron(3)([1]* 3))\n",
    "print(Layer(3, 2)([1]*3))\n",
    "print(MultiLayerPerceptron(3, [2, 3])([1]*3))\n",
    "MultiLayerPerceptron(3, [2, 3]).zero_grad()"
   ]
  },
  {
   "cell_type": "markdown",
   "metadata": {},
   "source": [
    "# Let's now see how our MultiLayerPerceptron matches up with Pytorch\n",
    "\n",
    "1. We'll follow [the pytorch quickstart tutorial](https://pytorch.org/tutorials/beginner/basics/quickstart_tutorial.html)\n",
    "2. we'll come back and drop in our own `MyTensor` based Neural Network, and see that the output is \"the same\". \n",
    "\n",
    "Realistically our code is going to be enormously slower than Pytorch. Likely you won't have the patience to see more than a few iterations of back propogation with our Neural Network on even the small example ML Model."
   ]
  },
  {
   "cell_type": "code",
   "execution_count": 7,
   "metadata": {},
   "outputs": [],
   "source": [
    "# Cell 1 from the pytorch tutorial: https://pytorch.org/tutorials/beginner/basics/quickstart_tutorial.html\n",
    "\n",
    "import torch\n",
    "from torch import nn\n",
    "from torch.utils.data import DataLoader\n",
    "from torchvision import datasets\n",
    "from torchvision.transforms import ToTensor\n",
    "import matplotlib.pyplot as plt\n"
   ]
  },
  {
   "cell_type": "code",
   "execution_count": 8,
   "metadata": {},
   "outputs": [
    {
     "name": "stdout",
     "output_type": "stream",
     "text": [
      "Downloading http://fashion-mnist.s3-website.eu-central-1.amazonaws.com/train-images-idx3-ubyte.gz\n",
      "Downloading http://fashion-mnist.s3-website.eu-central-1.amazonaws.com/train-images-idx3-ubyte.gz to data/FashionMNIST/raw/train-images-idx3-ubyte.gz\n"
     ]
    },
    {
     "name": "stderr",
     "output_type": "stream",
     "text": [
      "100.0%\n"
     ]
    },
    {
     "name": "stdout",
     "output_type": "stream",
     "text": [
      "Extracting data/FashionMNIST/raw/train-images-idx3-ubyte.gz to data/FashionMNIST/raw\n",
      "\n",
      "Downloading http://fashion-mnist.s3-website.eu-central-1.amazonaws.com/train-labels-idx1-ubyte.gz\n",
      "Downloading http://fashion-mnist.s3-website.eu-central-1.amazonaws.com/train-labels-idx1-ubyte.gz to data/FashionMNIST/raw/train-labels-idx1-ubyte.gz\n"
     ]
    },
    {
     "name": "stderr",
     "output_type": "stream",
     "text": [
      "100.0%\n"
     ]
    },
    {
     "name": "stdout",
     "output_type": "stream",
     "text": [
      "Extracting data/FashionMNIST/raw/train-labels-idx1-ubyte.gz to data/FashionMNIST/raw\n",
      "\n",
      "Downloading http://fashion-mnist.s3-website.eu-central-1.amazonaws.com/t10k-images-idx3-ubyte.gz\n",
      "Downloading http://fashion-mnist.s3-website.eu-central-1.amazonaws.com/t10k-images-idx3-ubyte.gz to data/FashionMNIST/raw/t10k-images-idx3-ubyte.gz\n"
     ]
    },
    {
     "name": "stderr",
     "output_type": "stream",
     "text": [
      "100.0%\n"
     ]
    },
    {
     "name": "stdout",
     "output_type": "stream",
     "text": [
      "Extracting data/FashionMNIST/raw/t10k-images-idx3-ubyte.gz to data/FashionMNIST/raw\n",
      "\n",
      "Downloading http://fashion-mnist.s3-website.eu-central-1.amazonaws.com/t10k-labels-idx1-ubyte.gz\n",
      "Downloading http://fashion-mnist.s3-website.eu-central-1.amazonaws.com/t10k-labels-idx1-ubyte.gz to data/FashionMNIST/raw/t10k-labels-idx1-ubyte.gz\n"
     ]
    },
    {
     "name": "stderr",
     "output_type": "stream",
     "text": [
      "\r",
      "100.0%"
     ]
    },
    {
     "name": "stdout",
     "output_type": "stream",
     "text": [
      "Extracting data/FashionMNIST/raw/t10k-labels-idx1-ubyte.gz to data/FashionMNIST/raw\n",
      "\n"
     ]
    },
    {
     "name": "stderr",
     "output_type": "stream",
     "text": [
      "\n"
     ]
    }
   ],
   "source": [
    "# Cell 2 from the pytorch tutorial: https://pytorch.org/tutorials/beginner/basics/quickstart_tutorial.html\n",
    "# Download training data from open datasets.\n",
    "training_data = datasets.FashionMNIST(\n",
    "    root=\"data\",\n",
    "    train=True,\n",
    "    download=True,\n",
    "    transform=ToTensor(),\n",
    ")\n",
    "\n",
    "# Download test data from open datasets.\n",
    "test_data = datasets.FashionMNIST(\n",
    "    root=\"data\",\n",
    "    train=False,\n",
    "    download=True,\n",
    "    transform=ToTensor(),\n",
    ")"
   ]
  },
  {
   "cell_type": "markdown",
   "metadata": {},
   "source": [
    "# What is training data?\n",
    "We downloaded the \"fashion-mnist\" dataset and it's now a file on your computer.\n",
    "> Answer yourse: How big is the file?\n",
    "\n",
    "This file is a list of input images for ML Models, and labels.\n",
    "The training data is _critical_. The model will \"learn\" from this data.\n",
    "The labels \"teach\" the model what good outputs look like.\n",
    "\n",
    "> Look at https://github.com/zalandoresearch/fashion-mnist. How many different labels are there for “fashion-mnist”?"
   ]
  },
  {
   "cell_type": "code",
   "execution_count": 9,
   "metadata": {},
   "outputs": [
    {
     "data": {
      "text/plain": [
       "<matplotlib.image.AxesImage at 0x7efe9f8e24d0>"
      ]
     },
     "execution_count": 9,
     "metadata": {},
     "output_type": "execute_result"
    },
    {
     "data": {
      "image/png": "[encoded data removed]",
      "text/plain": [
       "<Figure size 640x480 with 1 Axes>"
      ]
     },
     "metadata": {},
     "output_type": "display_data"
    }
   ],
   "source": [
    "plt.imshow(training_data[15][0][0])"
   ]
  },
  {
   "cell_type": "markdown",
   "metadata": {},
   "source": [
    "> Can you find the label for the index 15 item in the dataset?\n",
    "> We displayed the image above, does it makes sense with the label?  "
   ]
  },
  {
   "cell_type": "code",
   "execution_count": 10,
   "metadata": {},
   "outputs": [
    {
     "data": {
      "text/plain": [
       "9"
      ]
     },
     "execution_count": 10,
     "metadata": {},
     "output_type": "execute_result"
    }
   ],
   "source": [
    "# Here's the label\n",
    "training_data[15][1]"
   ]
  },
  {
   "cell_type": "code",
   "execution_count": 11,
   "metadata": {},
   "outputs": [
    {
     "name": "stdout",
     "output_type": "stream",
     "text": [
      "Shape of X [N, C, H, W]: torch.Size([1, 1, 28, 28])\n",
      "Shape of y: torch.Size([1]) torch.int64\n"
     ]
    }
   ],
   "source": [
    "# (modified) Cell 3 from the pytorch tutorial: https://pytorch.org/tutorials/beginner/basics/quickstart_tutorial.html\n",
    "train_dataloader = DataLoader(training_data)\n",
    "test_dataloader = DataLoader(test_data)\n",
    "\n",
    "# It's pretty common to literally iterate through the dataset.\n",
    "# Typically it's done in \"batches\" to take advantage of compute parallelism.\n",
    "\n",
    "\n",
    "for X, y in test_dataloader:\n",
    "    print(f\"Shape of X [N, C, H, W]: {X.shape}\")\n",
    "    print(f\"Shape of y: {y.shape} {y.dtype}\")\n",
    "    break"
   ]
  },
  {
   "cell_type": "markdown",
   "metadata": {},
   "source": [
    "# Writing a \"real\" pytorch model!"
   ]
  },
  {
   "cell_type": "code",
   "execution_count": 12,
   "metadata": {},
   "outputs": [
    {
     "name": "stdout",
     "output_type": "stream",
     "text": [
      "NeuralNetwork(\n",
      "  (flatten): Flatten(start_dim=1, end_dim=-1)\n",
      "  (linear_relu_stack): Sequential(\n",
      "    (0): Linear(in_features=784, out_features=512, bias=True)\n",
      "    (1): ReLU()\n",
      "    (2): Linear(in_features=512, out_features=512, bias=True)\n",
      "    (3): ReLU()\n",
      "    (4): Linear(in_features=512, out_features=10, bias=True)\n",
      "  )\n",
      ")\n"
     ]
    }
   ],
   "source": [
    "# (modified) Cell 4 from the pytorch tutorial: https://pytorch.org/tutorials/beginner/basics/quickstart_tutorial.html\n",
    "class NeuralNetwork(nn.Module):\n",
    "    def __init__(self):\n",
    "        super().__init__()\n",
    "        \"\"\"\n",
    "        You saw that the images are 28x28 arrays.\n",
    "        So we need to call `flatten` to produce a (28*28=784) long array.\n",
    "        After that we're using Linear layers followed by ReLUs which have\n",
    "        the same mathematical effect as our Layers!.\n",
    "        \"\"\"\n",
    "        self.flatten = nn.Flatten()\n",
    "        self.linear_relu_stack = nn.Sequential(\n",
    "            nn.Linear(28*28, 512),\n",
    "            nn.ReLU(),\n",
    "            nn.Linear(512, 512),\n",
    "            nn.ReLU(),\n",
    "            nn.Linear(512, 10)\n",
    "        )\n",
    "\n",
    "    def forward(self, x):\n",
    "        \"\"\"\n",
    "        `forward` is part of the pytorch interface.\n",
    "        This is just calling the model on the input x.\n",
    "        \"\"\"\n",
    "        x = self.flatten(x)\n",
    "        # logits is basically a fancy word for \"raw outputs\"\n",
    "        # ML scientists like words that sound scientific.\n",
    "        logits = self.linear_relu_stack(x)\n",
    "        return logits\n",
    "\n",
    "model = NeuralNetwork()\n",
    "print(model)"
   ]
  },
  {
   "cell_type": "markdown",
   "metadata": {},
   "source": [
    "# Then there's \"boilerplate\"\n",
    "While pytorch makes it easy to define a model,\n",
    "the training loop code can quickly become complicated in the real world.\n",
    "We'll stick to the example from the pytorch tutorial, but know\n",
    "that you should expect to see:\n",
    "* compute and data sharding,\n",
    "* multi machine GPU parallelism, \n",
    "* distributed and cursor aware checkpointing, \n",
    "* telemetry and validation code\n",
    "among many other \"big scale\" components in this boiler plate.\n"
   ]
  },
  {
   "cell_type": "code",
   "execution_count": 13,
   "metadata": {},
   "outputs": [
    {
     "name": "stdout",
     "output_type": "stream",
     "text": [
      "Epoch 1\n",
      "-------------------------------\n",
      "loss: 2.370152  [    1/60000]\n",
      "loss: 0.198890  [10001/60000]\n",
      "loss: 0.049743  [20001/60000]\n",
      "loss: 0.031128  [30001/60000]\n",
      "loss: 0.423391  [40001/60000]\n",
      "loss: 0.202370  [50001/60000]\n",
      "Test Error: \n",
      " Accuracy: 82.2%, Avg loss: 0.502760 \n",
      "\n",
      "Epoch 2\n",
      "-------------------------------\n",
      "loss: 0.013136  [    1/60000]\n",
      "loss: 0.009967  [10001/60000]\n",
      "loss: 0.002747  [20001/60000]\n",
      "loss: 0.038136  [30001/60000]\n",
      "loss: 0.270433  [40001/60000]\n",
      "loss: 0.257043  [50001/60000]\n",
      "Test Error: \n",
      " Accuracy: 84.2%, Avg loss: 0.441821 \n",
      "\n",
      "Epoch 3\n",
      "-------------------------------\n",
      "loss: 0.002387  [    1/60000]\n",
      "loss: 0.008822  [10001/60000]\n",
      "loss: 0.001419  [20001/60000]\n",
      "loss: 0.027906  [30001/60000]\n",
      "loss: 0.197916  [40001/60000]\n",
      "loss: 0.254639  [50001/60000]\n",
      "Test Error: \n",
      " Accuracy: 85.4%, Avg loss: 0.410322 \n",
      "\n",
      "Epoch 4\n",
      "-------------------------------\n",
      "loss: 0.001092  [    1/60000]\n",
      "loss: 0.005221  [10001/60000]\n",
      "loss: 0.001085  [20001/60000]\n",
      "loss: 0.024402  [30001/60000]\n",
      "loss: 0.154382  [40001/60000]\n",
      "loss: 0.233394  [50001/60000]\n",
      "Test Error: \n",
      " Accuracy: 86.0%, Avg loss: 0.389913 \n",
      "\n",
      "Epoch 5\n",
      "-------------------------------\n",
      "loss: 0.000877  [    1/60000]\n",
      "loss: 0.003290  [10001/60000]\n",
      "loss: 0.000958  [20001/60000]\n",
      "loss: 0.023821  [30001/60000]\n",
      "loss: 0.120175  [40001/60000]\n",
      "loss: 0.218800  [50001/60000]\n",
      "Test Error: \n",
      " Accuracy: 86.5%, Avg loss: 0.376173 \n",
      "\n",
      "Done!\n"
     ]
    }
   ],
   "source": [
    "# (modified) Cells 5,6,7 from the pytorch tutorial: https://pytorch.org/tutorials/beginner/basics/quickstart_tutorial.html\n",
    "def train(dataloader, model, loss_fn, optimizer):\n",
    "    size = len(dataloader.dataset)\n",
    "    model.train()\n",
    "    for batch, (X, y) in enumerate(dataloader):\n",
    "\n",
    "        # Compute prediction error\n",
    "        pred = model(X)\n",
    "        loss = loss_fn(pred, y)\n",
    "\n",
    "        # Backpropagation\n",
    "        loss.backward()\n",
    "        optimizer.step()\n",
    "        optimizer.zero_grad()\n",
    "\n",
    "        if batch % 10000 == 0:\n",
    "            loss, current = loss.item(), (batch + 1) * len(X)\n",
    "            print(f\"loss: {loss:>7f}  [{current:>5d}/{size:>5d}]\")\n",
    "\n",
    "def test(dataloader, model, loss_fn):\n",
    "    size = len(dataloader.dataset)\n",
    "    num_batches = len(dataloader)\n",
    "    model.eval()\n",
    "    test_loss, correct = 0, 0\n",
    "    with torch.no_grad():\n",
    "        for X, y in dataloader:\n",
    "            pred = model(X)\n",
    "            test_loss += loss_fn(pred, y).item()\n",
    "            correct += (pred.argmax(1) == y).type(torch.float).sum().item()\n",
    "    test_loss /= num_batches\n",
    "    correct /= size\n",
    "    print(f\"Test Error: \\n Accuracy: {(100*correct):>0.1f}%, Avg loss: {test_loss:>8f} \\n\")\n",
    "\n",
    "\n",
    "# I glossed over \"loss functions\" and we will cover this more later.\n",
    "# Know that loss functions basically wrap your neural net \n",
    "#   to compare the model's output with the desired output:\n",
    "#\n",
    "# loss(input, output) `abs(neural_net(input) - expected_output)`\n",
    "#\n",
    "# So when gradient descent optimized _from_ this wrapper function's node\n",
    "# your neural net is _improving_ the weights in terms\n",
    "# of creating desirable outputs.\n",
    "loss_fn = nn.CrossEntropyLoss()\n",
    "optimizer = torch.optim.SGD(model.parameters(), lr=1e-3)\n",
    "\n",
    "# Epoch means dataset pass.\n",
    "# Like two epochs means two entire passes through the dataset.\n",
    "epochs = 5\n",
    "for t in range(epochs):\n",
    "    print(f\"Epoch {t+1}\\n-------------------------------\")\n",
    "    train(train_dataloader, model, loss_fn, optimizer)\n",
    "    test(test_dataloader, model, loss_fn)\n",
    "print(\"Done!\")"
   ]
  },
  {
   "cell_type": "markdown",
   "metadata": {},
   "source": [
    "# This is a working trained pytorch model!\n",
    "You could use this in a fashion app."
   ]
  },
  {
   "cell_type": "code",
   "execution_count": 14,
   "metadata": {},
   "outputs": [
    {
     "name": "stdout",
     "output_type": "stream",
     "text": [
      "Predicted: \"Ankle boot\", Actual: \"Ankle boot\"\n"
     ]
    }
   ],
   "source": [
    "classes = [\n",
    "    \"T-shirt/top\",\n",
    "    \"Trouser\",\n",
    "    \"Pullover\",\n",
    "    \"Dress\",\n",
    "    \"Coat\",\n",
    "    \"Sandal\",\n",
    "    \"Shirt\",\n",
    "    \"Sneaker\",\n",
    "    \"Bag\",\n",
    "    \"Ankle boot\",\n",
    "]\n",
    "\n",
    "model.eval()\n",
    "x, y = test_data[0][0], test_data[0][1]\n",
    "with torch.no_grad():\n",
    "    pred = model(x)\n",
    "    predicted, actual = classes[pred[0].argmax(0)], classes[y]\n",
    "    print(f'Predicted: \"{predicted}\", Actual: \"{actual}\"')"
   ]
  },
  {
   "cell_type": "markdown",
   "metadata": {},
   "source": [
    "# Let's train our MultiLayerPerceptron on the same data!"
   ]
  },
  {
   "cell_type": "code",
   "execution_count": 15,
   "metadata": {},
   "outputs": [
    {
     "name": "stdout",
     "output_type": "stream",
     "text": [
      "[343.33820873735186, 0, 0, 52.728456195397875, 290.188938110364, 1207.2769454915845, 0, 1343.414522512441, 227.96530423728888, 212.96803845325275]\n"
     ]
    }
   ],
   "source": [
    "class MyImageClassifier:\n",
    "    def __init__(self):\n",
    "        self.nn = MultiLayerPerceptron(28*28, [512, 512, 10])\n",
    "    \n",
    "    def forward(self, x):\n",
    "        \"\"\"\n",
    "        x will be a 28x28 array.\n",
    "        So we'll use a convenient pytorch thing to flatten it to a 1d array.\n",
    "        \"\"\"\n",
    "        # x = torch.flatten(x)\n",
    "        x = torch.flatten(x).tolist()\n",
    "        return self.nn(x)\n",
    "    \n",
    "\n",
    "example_input = training_data[15][0]\n",
    "y = MyImageClassifier().forward(example_input)\n",
    "print([t.data for t in y])\n",
    "\n",
    "\n"
   ]
  },
  {
   "cell_type": "code",
   "execution_count": 16,
   "metadata": {},
   "outputs": [
    {
     "data": {
      "text/plain": [
       "[0, 0, 0, 0, 0, 0, 0, 0, 0, 1, 0, 0, 0, 0, 0]"
      ]
     },
     "execution_count": 16,
     "metadata": {},
     "output_type": "execute_result"
    }
   ],
   "source": [
    "# We're going to use this to define a quick and dirty \"loss function\".\n",
    "torch.nn.functional.one_hot(torch.tensor([9]), 15).tolist()[0]"
   ]
  },
  {
   "cell_type": "code",
   "execution_count": null,
   "metadata": {},
   "outputs": [
    {
     "name": "stderr",
     "output_type": "stream",
     "text": [
      "/tmp/ipykernel_23257/1337800516.py:9: UserWarning: To copy construct from a tensor, it is recommended to use sourceTensor.clone().detach() or sourceTensor.clone().detach().requires_grad_(True), rather than torch.tensor(sourceTensor).\n",
      "  expected_labels = torch.nn.functional.one_hot(torch.tensor(label), 15).tolist()[0]\n"
     ]
    }
   ],
   "source": [
    "train_rate = 0.01\n",
    "def train(dataloader, model):\n",
    "    size = len(dataloader.dataset)\n",
    "    for batch, (X, y) in enumerate(dataloader):\n",
    "\n",
    "        # Compute prediction error\n",
    "        pred = model.forward(X)\n",
    "        def myloss(predicted_labels, label):\n",
    "            expected_labels = torch.nn.functional.one_hot(torch.tensor(label), 15).tolist()[0]\n",
    "            return sum((pred_label + (-1 * exp_label) for (pred_label, exp_label) in zip(predicted_labels, expected_labels)), MyTensor(0))\n",
    "\n",
    "        loss = myloss(pred, y)\n",
    "\n",
    "        # Backpropagation\n",
    "        loss.backward()\n",
    "\n",
    "        for p in model.nn.parameters():\n",
    "            p.data -= train_rate * p.grad\n",
    "        model.nn.zero_grad()\n",
    "        print(f\"loss: {loss.data:>7f}\", flush=True)\n",
    "\n",
    "\n",
    "model = MyImageClassifier()\n",
    "\n",
    "# This takes hours for even one back propagation :/\n",
    "train(train_dataloader, model)"
   ]
  }
 ],
 "metadata": {
  "kernelspec": {
   "display_name": "Python 3 (ipykernel)",
   "language": "python",
   "name": "python3"
  },
  "language_info": {
   "codemirror_mode": {
    "name": "ipython",
    "version": 3
   },
   "file_extension": ".py",
   "mimetype": "text/x-python",
   "name": "python",
   "nbconvert_exporter": "python",
   "pygments_lexer": "ipython3",
   "version": "3.11.4"
  }
 },
 "nbformat": 4,
 "nbformat_minor": 2
}
